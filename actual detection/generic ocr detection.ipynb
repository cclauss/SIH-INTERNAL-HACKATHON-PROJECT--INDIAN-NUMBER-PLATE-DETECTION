{
 "cells": [
  {
   "cell_type": "code",
   "execution_count": 1,
   "metadata": {
    "scrolled": true
   },
   "outputs": [
    {
     "name": "stdout",
     "output_type": "stream",
     "text": [
      "WARNING:tensorflow:From C:\\Users\\Parikshit Singh\\AppData\\Roaming\\Python\\Python37\\site-packages\\object_detection\\utils\\label_map_util.py:132: The name tf.gfile.GFile is deprecated. Please use tf.io.gfile.GFile instead.\n",
      "\n",
      "['U: 99%']\n",
      "['5: 99%']\n",
      "['3: 99%']\n",
      "['8: 99%']\n",
      "['0: 99%']\n",
      "['7: 99%']\n",
      "['P: 99%']\n",
      "['K: 99%']\n",
      "['9: 97%']\n"
     ]
    }
   ],
   "source": [
    "import time\n",
    "import cv2\n",
    "import mss\n",
    "import numpy as np\n",
    "import os\n",
    "import sys\n",
    "os.environ['CUDA_VISIBLE_DEVICES'] = '-1'\n",
    "import tensorflow as tf\n",
    "from distutils.version import StrictVersion\n",
    "from collections import defaultdict\n",
    "from io import StringIO\n",
    "title=\"number plate detection\"\n",
    "# ## Env setup\n",
    "from object_detection.utils import ops as utils_ops\n",
    "from object_detection.utils import label_map_util\n",
    "from object_detection.utils import visualization_utils_self_created2 as vis_util\n",
    "\n",
    "coordinate_list=[]\n",
    "details=[]\n",
    "# # Model preparation \n",
    "PATH_TO_FROZEN_GRAPH = 'frozen_inference_graph.pb'\n",
    "# List of the strings that is used to add correct label for each box.\n",
    "PATH_TO_LABELS = 'labelmap.pbtxt'\n",
    "NUM_CLASSES = 37\n",
    "\n",
    "\n",
    "# ## Load a (frozen) Tensorflow model into memory.\n",
    "label_map = label_map_util.load_labelmap(PATH_TO_LABELS)\n",
    "categories = label_map_util.convert_label_map_to_categories(label_map, max_num_classes=NUM_CLASSES, use_display_name=True)\n",
    "category_index = label_map_util.create_category_index(categories)\n",
    "\n",
    "detection_graph = tf.Graph()\n",
    "with detection_graph.as_default():\n",
    "    od_graph_def = tf.GraphDef()\n",
    "    with tf.gfile.GFile(PATH_TO_FROZEN_GRAPH, 'rb') as fid:\n",
    "        serialized_graph = fid.read()\n",
    "        od_graph_def.ParseFromString(serialized_graph)\n",
    "        tf.import_graph_def(od_graph_def, name='')\n",
    "\n",
    "\n",
    "# # Detection\n",
    "coordinates=[]\n",
    "def image_detection(image):\n",
    "    with detection_graph.as_default():\n",
    "        with tf.Session(graph=detection_graph) as sess:\n",
    "            # Get raw pixels from the screen, save it to a Numpy array\n",
    "            image_np =cv2.imread(image)\n",
    "            # To get real color we do this:\n",
    "            image_np = cv2.cvtColor(image_np, cv2.COLOR_BGR2RGB)\n",
    "            # Expand dimensions since the model expects images to have shape: [1, None, None, 3]\n",
    "            image_np_expanded = np.expand_dims(image_np, axis=0)\n",
    "            # Actual detection.\n",
    "            image_tensor = detection_graph.get_tensor_by_name('image_tensor:0')\n",
    "            boxes = detection_graph.get_tensor_by_name('detection_boxes:0')\n",
    "            scores = detection_graph.get_tensor_by_name('detection_scores:0')\n",
    "            classes = detection_graph.get_tensor_by_name('detection_classes:0')\n",
    "            num_detections = detection_graph.get_tensor_by_name('num_detections:0')\n",
    "\n",
    "            # Visualization of the results of a detection.\n",
    "            (boxes, scores, classes, num_detections) = sess.run(\n",
    "                [boxes, scores, classes, num_detections],\n",
    "                feed_dict={image_tensor: image_np_expanded})\n",
    "            vis_util.visualize_boxes_and_labels_on_image_array(\n",
    "                image_np,\n",
    "                np.squeeze(boxes),\n",
    "                np.squeeze(classes).astype(np.int32),\n",
    "                np.squeeze(scores),\n",
    "                category_index,\n",
    "                use_normalized_coordinates=True,\n",
    "                line_thickness=1)\n",
    "            cv2.imshow(title, image_np)\n",
    "            cv2.waitKey(0)\n",
    "            cv2.destroyAllWindows()\n",
    "            \n",
    "image_detection('UP37K9580_668_289.jpg')\n"
   ]
  },
  {
   "cell_type": "code",
   "execution_count": 2,
   "metadata": {},
   "outputs": [
    {
     "name": "stdout",
     "output_type": "stream",
     "text": [
      "UP37K9580\n"
     ]
    }
   ],
   "source": [
    "# code snippet to print and license number as such.\n",
    "corresponding_coordinates=np.array(vis_util.corresponding_coordinates)\n",
    "character=np.array(vis_util.character)\n",
    "characters=[]\n",
    "for i in range(len(character)):\n",
    "    for string in character[i]:\n",
    "        characters.append(string.split(':')[0])\n",
    "threshold_y=np.mean(corresponding_coordinates[:, 1])\n",
    "characters=np.array(characters)\n",
    "sortable_initial_x_coordinates=corresponding_coordinates[:, 0][corresponding_coordinates[:, 1]<threshold_y]\n",
    "starting_characters=characters[corresponding_coordinates[:, 1]<threshold_y][np.argsort(sortable_initial_x_coordinates)]\n",
    "sortable_final_x_coordinates=corresponding_coordinates[:, 0][corresponding_coordinates[:, 1]>=threshold_y]\n",
    "ending_characters=characters[corresponding_coordinates[:, 1]>=threshold_y][np.argsort(sortable_final_x_coordinates)]\n",
    "print(''.join([''.join(starting_characters), ''.join(ending_characters)]))\n"
   ]
  },
  {
   "cell_type": "code",
   "execution_count": 3,
   "metadata": {},
   "outputs": [],
   "source": [
    "corresponding_coordinates=np.array(vis_util.corresponding_coordinates)\n",
    "character=np.array(vis_util.character)\n",
    "characters=[]\n",
    "for i in range(len(character)):\n",
    "    for string in character[i]:\n",
    "        characters.append(string.split(':')[0])"
   ]
  },
  {
   "cell_type": "code",
   "execution_count": 4,
   "metadata": {},
   "outputs": [
    {
     "data": {
      "text/plain": [
       "['U', '5', '3', '8', '0', '7', 'P', 'K', '9']"
      ]
     },
     "execution_count": 4,
     "metadata": {},
     "output_type": "execute_result"
    }
   ],
   "source": [
    "characters"
   ]
  },
  {
   "cell_type": "code",
   "execution_count": 5,
   "metadata": {},
   "outputs": [
    {
     "data": {
      "text/plain": [
       "[[0.3307679742574692, 0.4752560555934906],\n",
       " [0.6297241151332855, 0.6751984357833862],\n",
       " [0.5645541250705719, 0.4380141347646713],\n",
       " [0.7327942550182343, 0.6541145443916321],\n",
       " [0.8361122608184814, 0.6217658817768097],\n",
       " [0.66233891248703, 0.4064152389764786],\n",
       " [0.4383610337972641, 0.44893430173397064],\n",
       " [0.34117816388607025, 0.7420276999473572],\n",
       " [0.5193172842264175, 0.708506852388382]]"
      ]
     },
     "execution_count": 5,
     "metadata": {},
     "output_type": "execute_result"
    }
   ],
   "source": [
    "corr=vis_util.corresponding_coordinates\n",
    "corr"
   ]
  },
  {
   "cell_type": "code",
   "execution_count": 6,
   "metadata": {},
   "outputs": [
    {
     "data": {
      "text/plain": [
       "{'U': [0.3307679742574692, 0.4752560555934906],\n",
       " '5': [0.6297241151332855, 0.6751984357833862],\n",
       " '3': [0.5645541250705719, 0.4380141347646713],\n",
       " '8': [0.7327942550182343, 0.6541145443916321],\n",
       " '0': [0.8361122608184814, 0.6217658817768097],\n",
       " '7': [0.66233891248703, 0.4064152389764786],\n",
       " 'P': [0.4383610337972641, 0.44893430173397064],\n",
       " 'K': [0.34117816388607025, 0.7420276999473572],\n",
       " '9': [0.5193172842264175, 0.708506852388382]}"
      ]
     },
     "execution_count": 6,
     "metadata": {},
     "output_type": "execute_result"
    }
   ],
   "source": [
    "ans_dic={}\n",
    "for i in range(len(characters)):\n",
    "    ans_dic[characters[i]]=corr[i]\n",
    "ans_dic"
   ]
  },
  {
   "cell_type": "code",
   "execution_count": 7,
   "metadata": {},
   "outputs": [],
   "source": [
    "def dist(point):\n",
    "    return np.sqrt((np.array(point)*np.array(point)).sum())"
   ]
  },
  {
   "cell_type": "code",
   "execution_count": 12,
   "metadata": {},
   "outputs": [
    {
     "name": "stdout",
     "output_type": "stream",
     "text": [
      "0.5790300261408494\n"
     ]
    },
    {
     "data": {
      "text/plain": [
       "(0.5790300261408494, array([0.33076797, 0.47525606]))"
      ]
     },
     "execution_count": 12,
     "metadata": {},
     "output_type": "execute_result"
    }
   ],
   "source": [
    "distances=[dist(i) for i in corr]\n",
    "print(np.array(distances).min())\n",
    "min_c=[]\n",
    "min_d=10\n",
    "for i in corr:\n",
    "    xp=dist(i)\n",
    "    if min_d>xp:\n",
    "        min_d=xp\n",
    "        min_c=i\n",
    "\n",
    "min_c=np.array(min_c)\n",
    "min_d,min_c"
   ]
  },
  {
   "cell_type": "code",
   "execution_count": 17,
   "metadata": {},
   "outputs": [
    {
     "ename": "TypeError",
     "evalue": "ufunc 'bitwise_and' not supported for the input types, and the inputs could not be safely coerced to any supported types according to the casting rule ''safe''",
     "output_type": "error",
     "traceback": [
      "\u001b[1;31m---------------------------------------------------------------------------\u001b[0m",
      "\u001b[1;31mTypeError\u001b[0m                                 Traceback (most recent call last)",
      "\u001b[1;32m<ipython-input-17-c9fc43848181>\u001b[0m in \u001b[0;36m<module>\u001b[1;34m\u001b[0m\n\u001b[0;32m      7\u001b[0m     \u001b[0mi\u001b[0m\u001b[1;33m=\u001b[0m\u001b[0mnp\u001b[0m\u001b[1;33m.\u001b[0m\u001b[0marray\u001b[0m\u001b[1;33m(\u001b[0m\u001b[0mi\u001b[0m\u001b[1;33m)\u001b[0m\u001b[1;33m\u001b[0m\u001b[1;33m\u001b[0m\u001b[0m\n\u001b[0;32m      8\u001b[0m     \u001b[0mxn\u001b[0m\u001b[1;33m=\u001b[0m\u001b[0mdistfromfirst\u001b[0m\u001b[1;33m(\u001b[0m\u001b[0mmin_c\u001b[0m\u001b[1;33m,\u001b[0m\u001b[0mi\u001b[0m\u001b[1;33m)\u001b[0m\u001b[1;33m\u001b[0m\u001b[1;33m\u001b[0m\u001b[0m\n\u001b[1;32m----> 9\u001b[1;33m     \u001b[1;32mif\u001b[0m \u001b[0mxn\u001b[0m\u001b[1;33m<\u001b[0m\u001b[0mminval\u001b[0m \u001b[1;33m&\u001b[0m \u001b[0mi\u001b[0m\u001b[1;33m!=\u001b[0m\u001b[0mmin_c\u001b[0m\u001b[1;33m:\u001b[0m\u001b[1;33m\u001b[0m\u001b[1;33m\u001b[0m\u001b[0m\n\u001b[0m\u001b[0;32m     10\u001b[0m         \u001b[0mminval\u001b[0m\u001b[1;33m=\u001b[0m\u001b[0mxn\u001b[0m\u001b[1;33m\u001b[0m\u001b[1;33m\u001b[0m\u001b[0m\n\u001b[0;32m     11\u001b[0m         \u001b[0mmina1\u001b[0m\u001b[1;33m=\u001b[0m\u001b[0mi\u001b[0m\u001b[1;33m\u001b[0m\u001b[1;33m\u001b[0m\u001b[0m\n",
      "\u001b[1;31mTypeError\u001b[0m: ufunc 'bitwise_and' not supported for the input types, and the inputs could not be safely coerced to any supported types according to the casting rule ''safe''"
     ]
    }
   ],
   "source": [
    "def distfromfirst(min_c,i):\n",
    "    return np.sqrt(np.array((min_c-i))*np.array((min_c-i)))\n",
    "minval=10\n",
    "mina1=[]\n",
    "mina2=[]\n",
    "for i in corr:\n",
    "    i=np.array(i)\n",
    "    xn=distfromfirst(min_c,i)\n",
    "    if xn<minval & i!=min_c:\n",
    "        minval=xn\n",
    "        mina1=i\n",
    "mina1"
   ]
  }
 ],
 "metadata": {
  "kernelspec": {
   "display_name": "Python 3",
   "language": "python",
   "name": "python3"
  },
  "language_info": {
   "codemirror_mode": {
    "name": "ipython",
    "version": 3
   },
   "file_extension": ".py",
   "mimetype": "text/x-python",
   "name": "python",
   "nbconvert_exporter": "python",
   "pygments_lexer": "ipython3",
   "version": "3.7.4"
  }
 },
 "nbformat": 4,
 "nbformat_minor": 4
}
